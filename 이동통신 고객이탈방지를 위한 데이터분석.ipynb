{
 "cells": [
  {
   "cell_type": "markdown",
   "metadata": {},
   "source": [
    "<br>"
   ]
  },
  {
   "cell_type": "markdown",
   "metadata": {},
   "source": [
    "# 이동통신 고객이탈방지를 위한 데이터분석"
   ]
  },
  {
   "cell_type": "markdown",
   "metadata": {},
   "source": [
    "<br>"
   ]
  },
  {
   "cell_type": "markdown",
   "metadata": {},
   "source": [
    "                                                                                                                                     전공 : 데이터사이언스\n",
    "                                                                                                                                     학번 : 201904190\n",
    "                                                                                                                                     이름 : 김 묘 경"
   ]
  },
  {
   "cell_type": "markdown",
   "metadata": {},
   "source": [
    "<br>"
   ]
  },
  {
   "cell_type": "markdown",
   "metadata": {},
   "source": [
    " ### 1. 데이터 확인 및 전처리 "
   ]
  },
  {
   "cell_type": "markdown",
   "metadata": {},
   "source": [
    " ##### 1.1 라이브러리 불러오기"
   ]
  },
  {
   "cell_type": "code",
   "execution_count": 1,
   "metadata": {},
   "outputs": [],
   "source": [
    "import pandas as pd\n",
    "import numpy as np\n",
    "import matplotlib.pyplot as plt\n",
    "import seaborn as sns"
   ]
  },
  {
   "cell_type": "markdown",
   "metadata": {},
   "source": [
    "<br>"
   ]
  },
  {
   "cell_type": "markdown",
   "metadata": {},
   "source": [
    " ##### 1.2 데이터확인"
   ]
  },
  {
   "cell_type": "code",
   "execution_count": 2,
   "metadata": {},
   "outputs": [
    {
     "data": {
      "text/html": [
       "<div>\n",
       "<style scoped>\n",
       "    .dataframe tbody tr th:only-of-type {\n",
       "        vertical-align: middle;\n",
       "    }\n",
       "\n",
       "    .dataframe tbody tr th {\n",
       "        vertical-align: top;\n",
       "    }\n",
       "\n",
       "    .dataframe thead th {\n",
       "        text-align: right;\n",
       "    }\n",
       "</style>\n",
       "<table border=\"1\" class=\"dataframe\">\n",
       "  <thead>\n",
       "    <tr style=\"text-align: right;\">\n",
       "      <th></th>\n",
       "      <th>Leave</th>\n",
       "      <th>MemberWeeks</th>\n",
       "      <th>NewContract</th>\n",
       "      <th>IsData</th>\n",
       "      <th>DataAmount</th>\n",
       "      <th>Callcenter</th>\n",
       "      <th>CalMins</th>\n",
       "      <th>CalCounts</th>\n",
       "      <th>MonthlyFee</th>\n",
       "      <th>OverFee</th>\n",
       "      <th>RoamingMin</th>\n",
       "    </tr>\n",
       "  </thead>\n",
       "  <tbody>\n",
       "    <tr>\n",
       "      <th>0</th>\n",
       "      <td>0</td>\n",
       "      <td>128</td>\n",
       "      <td>1</td>\n",
       "      <td>1</td>\n",
       "      <td>2.70</td>\n",
       "      <td>1</td>\n",
       "      <td>265.1</td>\n",
       "      <td>110</td>\n",
       "      <td>89.0</td>\n",
       "      <td>9.87</td>\n",
       "      <td>10.0</td>\n",
       "    </tr>\n",
       "    <tr>\n",
       "      <th>1</th>\n",
       "      <td>0</td>\n",
       "      <td>107</td>\n",
       "      <td>1</td>\n",
       "      <td>1</td>\n",
       "      <td>3.70</td>\n",
       "      <td>1</td>\n",
       "      <td>161.6</td>\n",
       "      <td>123</td>\n",
       "      <td>82.0</td>\n",
       "      <td>9.78</td>\n",
       "      <td>13.7</td>\n",
       "    </tr>\n",
       "    <tr>\n",
       "      <th>2</th>\n",
       "      <td>0</td>\n",
       "      <td>137</td>\n",
       "      <td>1</td>\n",
       "      <td>0</td>\n",
       "      <td>0.00</td>\n",
       "      <td>0</td>\n",
       "      <td>243.4</td>\n",
       "      <td>114</td>\n",
       "      <td>52.0</td>\n",
       "      <td>6.06</td>\n",
       "      <td>12.2</td>\n",
       "    </tr>\n",
       "    <tr>\n",
       "      <th>3</th>\n",
       "      <td>0</td>\n",
       "      <td>84</td>\n",
       "      <td>0</td>\n",
       "      <td>0</td>\n",
       "      <td>0.00</td>\n",
       "      <td>2</td>\n",
       "      <td>299.4</td>\n",
       "      <td>71</td>\n",
       "      <td>57.0</td>\n",
       "      <td>3.10</td>\n",
       "      <td>6.6</td>\n",
       "    </tr>\n",
       "    <tr>\n",
       "      <th>4</th>\n",
       "      <td>0</td>\n",
       "      <td>75</td>\n",
       "      <td>0</td>\n",
       "      <td>0</td>\n",
       "      <td>0.00</td>\n",
       "      <td>3</td>\n",
       "      <td>166.7</td>\n",
       "      <td>113</td>\n",
       "      <td>41.0</td>\n",
       "      <td>7.42</td>\n",
       "      <td>10.1</td>\n",
       "    </tr>\n",
       "    <tr>\n",
       "      <th>...</th>\n",
       "      <td>...</td>\n",
       "      <td>...</td>\n",
       "      <td>...</td>\n",
       "      <td>...</td>\n",
       "      <td>...</td>\n",
       "      <td>...</td>\n",
       "      <td>...</td>\n",
       "      <td>...</td>\n",
       "      <td>...</td>\n",
       "      <td>...</td>\n",
       "      <td>...</td>\n",
       "    </tr>\n",
       "    <tr>\n",
       "      <th>3328</th>\n",
       "      <td>0</td>\n",
       "      <td>192</td>\n",
       "      <td>1</td>\n",
       "      <td>1</td>\n",
       "      <td>2.67</td>\n",
       "      <td>2</td>\n",
       "      <td>156.2</td>\n",
       "      <td>77</td>\n",
       "      <td>71.7</td>\n",
       "      <td>10.78</td>\n",
       "      <td>9.9</td>\n",
       "    </tr>\n",
       "    <tr>\n",
       "      <th>3329</th>\n",
       "      <td>0</td>\n",
       "      <td>68</td>\n",
       "      <td>1</td>\n",
       "      <td>0</td>\n",
       "      <td>0.34</td>\n",
       "      <td>3</td>\n",
       "      <td>231.1</td>\n",
       "      <td>57</td>\n",
       "      <td>56.4</td>\n",
       "      <td>7.67</td>\n",
       "      <td>9.6</td>\n",
       "    </tr>\n",
       "    <tr>\n",
       "      <th>3330</th>\n",
       "      <td>0</td>\n",
       "      <td>28</td>\n",
       "      <td>1</td>\n",
       "      <td>0</td>\n",
       "      <td>0.00</td>\n",
       "      <td>2</td>\n",
       "      <td>180.8</td>\n",
       "      <td>109</td>\n",
       "      <td>56.0</td>\n",
       "      <td>14.44</td>\n",
       "      <td>14.1</td>\n",
       "    </tr>\n",
       "    <tr>\n",
       "      <th>3331</th>\n",
       "      <td>0</td>\n",
       "      <td>184</td>\n",
       "      <td>0</td>\n",
       "      <td>0</td>\n",
       "      <td>0.00</td>\n",
       "      <td>2</td>\n",
       "      <td>213.8</td>\n",
       "      <td>105</td>\n",
       "      <td>50.0</td>\n",
       "      <td>7.98</td>\n",
       "      <td>5.0</td>\n",
       "    </tr>\n",
       "    <tr>\n",
       "      <th>3332</th>\n",
       "      <td>0</td>\n",
       "      <td>74</td>\n",
       "      <td>1</td>\n",
       "      <td>1</td>\n",
       "      <td>3.70</td>\n",
       "      <td>0</td>\n",
       "      <td>234.4</td>\n",
       "      <td>113</td>\n",
       "      <td>100.0</td>\n",
       "      <td>13.30</td>\n",
       "      <td>13.7</td>\n",
       "    </tr>\n",
       "  </tbody>\n",
       "</table>\n",
       "<p>3333 rows × 11 columns</p>\n",
       "</div>"
      ],
      "text/plain": [
       "      Leave  MemberWeeks  NewContract  IsData  DataAmount  Callcenter  \\\n",
       "0         0          128            1       1        2.70           1   \n",
       "1         0          107            1       1        3.70           1   \n",
       "2         0          137            1       0        0.00           0   \n",
       "3         0           84            0       0        0.00           2   \n",
       "4         0           75            0       0        0.00           3   \n",
       "...     ...          ...          ...     ...         ...         ...   \n",
       "3328      0          192            1       1        2.67           2   \n",
       "3329      0           68            1       0        0.34           3   \n",
       "3330      0           28            1       0        0.00           2   \n",
       "3331      0          184            0       0        0.00           2   \n",
       "3332      0           74            1       1        3.70           0   \n",
       "\n",
       "      CalMins  CalCounts  MonthlyFee  OverFee  RoamingMin  \n",
       "0       265.1        110        89.0     9.87        10.0  \n",
       "1       161.6        123        82.0     9.78        13.7  \n",
       "2       243.4        114        52.0     6.06        12.2  \n",
       "3       299.4         71        57.0     3.10         6.6  \n",
       "4       166.7        113        41.0     7.42        10.1  \n",
       "...       ...        ...         ...      ...         ...  \n",
       "3328    156.2         77        71.7    10.78         9.9  \n",
       "3329    231.1         57        56.4     7.67         9.6  \n",
       "3330    180.8        109        56.0    14.44        14.1  \n",
       "3331    213.8        105        50.0     7.98         5.0  \n",
       "3332    234.4        113       100.0    13.30        13.7  \n",
       "\n",
       "[3333 rows x 11 columns]"
      ]
     },
     "execution_count": 2,
     "metadata": {},
     "output_type": "execute_result"
    }
   ],
   "source": [
    "telco = pd.read_csv('Documents/data/telco.csv')\n",
    "telco"
   ]
  },
  {
   "cell_type": "markdown",
   "metadata": {},
   "source": [
    "- 불러온 이동통신 데이터를 확인한 결과 총 3333명의 사용자의 데이터와 11가지의 열로 구성되는 것을 확인할 수 있었다."
   ]
  },
  {
   "cell_type": "markdown",
   "metadata": {},
   "source": [
    "<br>"
   ]
  },
  {
   "cell_type": "code",
   "execution_count": 3,
   "metadata": {},
   "outputs": [
    {
     "name": "stdout",
     "output_type": "stream",
     "text": [
      "<class 'pandas.core.frame.DataFrame'>\n",
      "RangeIndex: 3333 entries, 0 to 3332\n",
      "Data columns (total 11 columns):\n",
      " #   Column       Non-Null Count  Dtype  \n",
      "---  ------       --------------  -----  \n",
      " 0   Leave        3333 non-null   int64  \n",
      " 1   MemberWeeks  3333 non-null   int64  \n",
      " 2   NewContract  3333 non-null   int64  \n",
      " 3   IsData       3333 non-null   int64  \n",
      " 4   DataAmount   3333 non-null   float64\n",
      " 5   Callcenter   3333 non-null   int64  \n",
      " 6   CalMins      3333 non-null   float64\n",
      " 7   CalCounts    3333 non-null   int64  \n",
      " 8   MonthlyFee   3333 non-null   float64\n",
      " 9   OverFee      3333 non-null   float64\n",
      " 10  RoamingMin   3333 non-null   float64\n",
      "dtypes: float64(5), int64(6)\n",
      "memory usage: 286.6 KB\n"
     ]
    }
   ],
   "source": [
    "telco.info()  #데이터타입, 결측치 확인, 메모리용량 확인."
   ]
  },
  {
   "cell_type": "markdown",
   "metadata": {},
   "source": [
    "-  결측치는 존재하지 않았고, int64와 float64 두개의 데이터 타입으로 이루어져 있으며, 메모리사용량은 대략 287KB를 차지하는 것을 알 수 있었다."
   ]
  },
  {
   "cell_type": "markdown",
   "metadata": {},
   "source": [
    "<br>"
   ]
  },
  {
   "cell_type": "markdown",
   "metadata": {},
   "source": [
    " ##### 1.3 메모리 용량 줄이기."
   ]
  },
  {
   "cell_type": "code",
   "execution_count": 4,
   "metadata": {},
   "outputs": [
    {
     "data": {
      "text/html": [
       "<div>\n",
       "<style scoped>\n",
       "    .dataframe tbody tr th:only-of-type {\n",
       "        vertical-align: middle;\n",
       "    }\n",
       "\n",
       "    .dataframe tbody tr th {\n",
       "        vertical-align: top;\n",
       "    }\n",
       "\n",
       "    .dataframe thead th {\n",
       "        text-align: right;\n",
       "    }\n",
       "</style>\n",
       "<table border=\"1\" class=\"dataframe\">\n",
       "  <thead>\n",
       "    <tr style=\"text-align: right;\">\n",
       "      <th></th>\n",
       "      <th>Leave</th>\n",
       "      <th>MemberWeeks</th>\n",
       "      <th>NewContract</th>\n",
       "      <th>IsData</th>\n",
       "      <th>DataAmount</th>\n",
       "      <th>Callcenter</th>\n",
       "      <th>CalMins</th>\n",
       "      <th>CalCounts</th>\n",
       "      <th>MonthlyFee</th>\n",
       "      <th>OverFee</th>\n",
       "      <th>RoamingMin</th>\n",
       "    </tr>\n",
       "  </thead>\n",
       "  <tbody>\n",
       "    <tr>\n",
       "      <th>count</th>\n",
       "      <td>3333.000000</td>\n",
       "      <td>3333.000000</td>\n",
       "      <td>3333.000000</td>\n",
       "      <td>3333.000000</td>\n",
       "      <td>3333.000000</td>\n",
       "      <td>3333.000000</td>\n",
       "      <td>3333.000000</td>\n",
       "      <td>3333.000000</td>\n",
       "      <td>3333.000000</td>\n",
       "      <td>3333.000000</td>\n",
       "      <td>3333.000000</td>\n",
       "    </tr>\n",
       "    <tr>\n",
       "      <th>mean</th>\n",
       "      <td>0.144914</td>\n",
       "      <td>101.064806</td>\n",
       "      <td>0.903090</td>\n",
       "      <td>0.276628</td>\n",
       "      <td>0.816475</td>\n",
       "      <td>1.562856</td>\n",
       "      <td>179.775098</td>\n",
       "      <td>100.435644</td>\n",
       "      <td>56.305161</td>\n",
       "      <td>10.051488</td>\n",
       "      <td>10.237294</td>\n",
       "    </tr>\n",
       "    <tr>\n",
       "      <th>std</th>\n",
       "      <td>0.352067</td>\n",
       "      <td>39.822106</td>\n",
       "      <td>0.295879</td>\n",
       "      <td>0.447398</td>\n",
       "      <td>1.272668</td>\n",
       "      <td>1.315491</td>\n",
       "      <td>54.467389</td>\n",
       "      <td>20.069084</td>\n",
       "      <td>16.426032</td>\n",
       "      <td>2.535712</td>\n",
       "      <td>2.791840</td>\n",
       "    </tr>\n",
       "    <tr>\n",
       "      <th>min</th>\n",
       "      <td>0.000000</td>\n",
       "      <td>1.000000</td>\n",
       "      <td>0.000000</td>\n",
       "      <td>0.000000</td>\n",
       "      <td>0.000000</td>\n",
       "      <td>0.000000</td>\n",
       "      <td>0.000000</td>\n",
       "      <td>0.000000</td>\n",
       "      <td>14.000000</td>\n",
       "      <td>0.000000</td>\n",
       "      <td>0.000000</td>\n",
       "    </tr>\n",
       "    <tr>\n",
       "      <th>25%</th>\n",
       "      <td>0.000000</td>\n",
       "      <td>74.000000</td>\n",
       "      <td>1.000000</td>\n",
       "      <td>0.000000</td>\n",
       "      <td>0.000000</td>\n",
       "      <td>1.000000</td>\n",
       "      <td>143.700000</td>\n",
       "      <td>87.000000</td>\n",
       "      <td>45.000000</td>\n",
       "      <td>8.330000</td>\n",
       "      <td>8.500000</td>\n",
       "    </tr>\n",
       "    <tr>\n",
       "      <th>50%</th>\n",
       "      <td>0.000000</td>\n",
       "      <td>101.000000</td>\n",
       "      <td>1.000000</td>\n",
       "      <td>0.000000</td>\n",
       "      <td>0.000000</td>\n",
       "      <td>1.000000</td>\n",
       "      <td>179.400000</td>\n",
       "      <td>101.000000</td>\n",
       "      <td>53.500000</td>\n",
       "      <td>10.070000</td>\n",
       "      <td>10.300000</td>\n",
       "    </tr>\n",
       "    <tr>\n",
       "      <th>75%</th>\n",
       "      <td>0.000000</td>\n",
       "      <td>127.000000</td>\n",
       "      <td>1.000000</td>\n",
       "      <td>1.000000</td>\n",
       "      <td>1.780000</td>\n",
       "      <td>2.000000</td>\n",
       "      <td>216.400000</td>\n",
       "      <td>114.000000</td>\n",
       "      <td>66.200000</td>\n",
       "      <td>11.770000</td>\n",
       "      <td>12.100000</td>\n",
       "    </tr>\n",
       "    <tr>\n",
       "      <th>max</th>\n",
       "      <td>1.000000</td>\n",
       "      <td>243.000000</td>\n",
       "      <td>1.000000</td>\n",
       "      <td>1.000000</td>\n",
       "      <td>5.400000</td>\n",
       "      <td>9.000000</td>\n",
       "      <td>350.800000</td>\n",
       "      <td>165.000000</td>\n",
       "      <td>111.300000</td>\n",
       "      <td>18.190000</td>\n",
       "      <td>20.000000</td>\n",
       "    </tr>\n",
       "  </tbody>\n",
       "</table>\n",
       "</div>"
      ],
      "text/plain": [
       "             Leave  MemberWeeks  NewContract       IsData   DataAmount  \\\n",
       "count  3333.000000  3333.000000  3333.000000  3333.000000  3333.000000   \n",
       "mean      0.144914   101.064806     0.903090     0.276628     0.816475   \n",
       "std       0.352067    39.822106     0.295879     0.447398     1.272668   \n",
       "min       0.000000     1.000000     0.000000     0.000000     0.000000   \n",
       "25%       0.000000    74.000000     1.000000     0.000000     0.000000   \n",
       "50%       0.000000   101.000000     1.000000     0.000000     0.000000   \n",
       "75%       0.000000   127.000000     1.000000     1.000000     1.780000   \n",
       "max       1.000000   243.000000     1.000000     1.000000     5.400000   \n",
       "\n",
       "        Callcenter      CalMins    CalCounts   MonthlyFee      OverFee  \\\n",
       "count  3333.000000  3333.000000  3333.000000  3333.000000  3333.000000   \n",
       "mean      1.562856   179.775098   100.435644    56.305161    10.051488   \n",
       "std       1.315491    54.467389    20.069084    16.426032     2.535712   \n",
       "min       0.000000     0.000000     0.000000    14.000000     0.000000   \n",
       "25%       1.000000   143.700000    87.000000    45.000000     8.330000   \n",
       "50%       1.000000   179.400000   101.000000    53.500000    10.070000   \n",
       "75%       2.000000   216.400000   114.000000    66.200000    11.770000   \n",
       "max       9.000000   350.800000   165.000000   111.300000    18.190000   \n",
       "\n",
       "        RoamingMin  \n",
       "count  3333.000000  \n",
       "mean     10.237294  \n",
       "std       2.791840  \n",
       "min       0.000000  \n",
       "25%       8.500000  \n",
       "50%      10.300000  \n",
       "75%      12.100000  \n",
       "max      20.000000  "
      ]
     },
     "execution_count": 4,
     "metadata": {},
     "output_type": "execute_result"
    }
   ],
   "source": [
    "telco.describe()"
   ]
  },
  {
   "cell_type": "code",
   "execution_count": 8,
   "metadata": {},
   "outputs": [
    {
     "name": "stdout",
     "output_type": "stream",
     "text": [
      "<class 'pandas.core.frame.DataFrame'>\n",
      "RangeIndex: 3333 entries, 0 to 3332\n",
      "Data columns (total 11 columns):\n",
      " #   Column       Non-Null Count  Dtype  \n",
      "---  ------       --------------  -----  \n",
      " 0   Leave        3333 non-null   int8   \n",
      " 1   MemberWeeks  3333 non-null   int16  \n",
      " 2   NewContract  3333 non-null   int8   \n",
      " 3   IsData       3333 non-null   int8   \n",
      " 4   DataAmount   3333 non-null   float16\n",
      " 5   Callcenter   3333 non-null   int8   \n",
      " 6   CalMins      3333 non-null   float32\n",
      " 7   CalCounts    3333 non-null   int16  \n",
      " 8   MonthlyFee   3333 non-null   float32\n",
      " 9   OverFee      3333 non-null   float16\n",
      " 10  RoamingMin   3333 non-null   float16\n",
      "dtypes: float16(3), float32(2), int16(2), int8(4)\n",
      "memory usage: 71.7 KB\n"
     ]
    }
   ],
   "source": [
    "# 데이터타입 변경.\n",
    "\n",
    "telco[['Leave','IsData','NewContract','Callcenter']] = telco[['Leave','IsData','NewContract','Callcenter']].astype(np.int8)\n",
    "telco[['MemberWeeks','CalCounts']] =telco[['MemberWeeks','CalCounts']].astype(np.int16)\n",
    "telco[['DataAmount','OverFee','RoamingMin']] =telco[['DataAmount','OverFee','RoamingMin']].astype(np.float16)\n",
    "telco[['CalMins','MonthlyFee']] =telco[['CalMins','MonthlyFee']].astype(np.float32)\n",
    "telco.info()"
   ]
  },
  {
   "cell_type": "code",
   "execution_count": 11,
   "metadata": {},
   "outputs": [
    {
     "data": {
      "text/plain": [
       "0.25"
      ]
     },
     "execution_count": 11,
     "metadata": {},
     "output_type": "execute_result"
    }
   ],
   "source": [
    "round(71.7/286.6,2)"
   ]
  },
  {
   "cell_type": "markdown",
   "metadata": {},
   "source": [
    "- 처음과 비교해보았을 때 25%의 메모리만 사용하게 되어 메모리용량을 줄일 수 있게 되었다. "
   ]
  },
  {
   "cell_type": "markdown",
   "metadata": {},
   "source": [
    "<br>"
   ]
  },
  {
   "cell_type": "markdown",
   "metadata": {},
   "source": [
    " ### 2. 전체 데이터 분석(EDA)"
   ]
  },
  {
   "cell_type": "code",
   "execution_count": 12,
   "metadata": {},
   "outputs": [
    {
     "data": {
      "text/html": [
       "<div>\n",
       "<style scoped>\n",
       "    .dataframe tbody tr th:only-of-type {\n",
       "        vertical-align: middle;\n",
       "    }\n",
       "\n",
       "    .dataframe tbody tr th {\n",
       "        vertical-align: top;\n",
       "    }\n",
       "\n",
       "    .dataframe thead th {\n",
       "        text-align: right;\n",
       "    }\n",
       "</style>\n",
       "<table border=\"1\" class=\"dataframe\">\n",
       "  <thead>\n",
       "    <tr style=\"text-align: right;\">\n",
       "      <th></th>\n",
       "      <th>Leave</th>\n",
       "      <th>MemberWeeks</th>\n",
       "      <th>NewContract</th>\n",
       "      <th>IsData</th>\n",
       "      <th>DataAmount</th>\n",
       "      <th>Callcenter</th>\n",
       "      <th>CalMins</th>\n",
       "      <th>CalCounts</th>\n",
       "      <th>MonthlyFee</th>\n",
       "      <th>OverFee</th>\n",
       "      <th>RoamingMin</th>\n",
       "    </tr>\n",
       "  </thead>\n",
       "  <tbody>\n",
       "    <tr>\n",
       "      <th>count</th>\n",
       "      <td>3333.000000</td>\n",
       "      <td>3333.000000</td>\n",
       "      <td>3333.000000</td>\n",
       "      <td>3333.000000</td>\n",
       "      <td>3333.000000</td>\n",
       "      <td>3333.000000</td>\n",
       "      <td>3333.000000</td>\n",
       "      <td>3333.000000</td>\n",
       "      <td>3333.000000</td>\n",
       "      <td>3333.000000</td>\n",
       "      <td>3333.000000</td>\n",
       "    </tr>\n",
       "    <tr>\n",
       "      <th>mean</th>\n",
       "      <td>0.144914</td>\n",
       "      <td>101.064806</td>\n",
       "      <td>0.903090</td>\n",
       "      <td>0.276628</td>\n",
       "      <td>0.816895</td>\n",
       "      <td>1.562856</td>\n",
       "      <td>179.775070</td>\n",
       "      <td>100.435644</td>\n",
       "      <td>56.305271</td>\n",
       "      <td>10.054688</td>\n",
       "      <td>10.234375</td>\n",
       "    </tr>\n",
       "    <tr>\n",
       "      <th>std</th>\n",
       "      <td>0.352067</td>\n",
       "      <td>39.822106</td>\n",
       "      <td>0.295879</td>\n",
       "      <td>0.447398</td>\n",
       "      <td>1.273438</td>\n",
       "      <td>1.315491</td>\n",
       "      <td>54.467808</td>\n",
       "      <td>20.069084</td>\n",
       "      <td>16.426413</td>\n",
       "      <td>2.535156</td>\n",
       "      <td>2.791016</td>\n",
       "    </tr>\n",
       "    <tr>\n",
       "      <th>min</th>\n",
       "      <td>0.000000</td>\n",
       "      <td>1.000000</td>\n",
       "      <td>0.000000</td>\n",
       "      <td>0.000000</td>\n",
       "      <td>0.000000</td>\n",
       "      <td>0.000000</td>\n",
       "      <td>0.000000</td>\n",
       "      <td>0.000000</td>\n",
       "      <td>14.000000</td>\n",
       "      <td>0.000000</td>\n",
       "      <td>0.000000</td>\n",
       "    </tr>\n",
       "    <tr>\n",
       "      <th>25%</th>\n",
       "      <td>0.000000</td>\n",
       "      <td>74.000000</td>\n",
       "      <td>1.000000</td>\n",
       "      <td>0.000000</td>\n",
       "      <td>0.000000</td>\n",
       "      <td>1.000000</td>\n",
       "      <td>143.750000</td>\n",
       "      <td>87.000000</td>\n",
       "      <td>45.000000</td>\n",
       "      <td>8.328125</td>\n",
       "      <td>8.500000</td>\n",
       "    </tr>\n",
       "    <tr>\n",
       "      <th>50%</th>\n",
       "      <td>0.000000</td>\n",
       "      <td>101.000000</td>\n",
       "      <td>1.000000</td>\n",
       "      <td>0.000000</td>\n",
       "      <td>0.000000</td>\n",
       "      <td>1.000000</td>\n",
       "      <td>179.375000</td>\n",
       "      <td>101.000000</td>\n",
       "      <td>53.500000</td>\n",
       "      <td>10.070312</td>\n",
       "      <td>10.296875</td>\n",
       "    </tr>\n",
       "    <tr>\n",
       "      <th>75%</th>\n",
       "      <td>0.000000</td>\n",
       "      <td>127.000000</td>\n",
       "      <td>1.000000</td>\n",
       "      <td>1.000000</td>\n",
       "      <td>1.780273</td>\n",
       "      <td>2.000000</td>\n",
       "      <td>216.375000</td>\n",
       "      <td>114.000000</td>\n",
       "      <td>66.187500</td>\n",
       "      <td>11.773438</td>\n",
       "      <td>12.101562</td>\n",
       "    </tr>\n",
       "    <tr>\n",
       "      <th>max</th>\n",
       "      <td>1.000000</td>\n",
       "      <td>243.000000</td>\n",
       "      <td>1.000000</td>\n",
       "      <td>1.000000</td>\n",
       "      <td>5.398438</td>\n",
       "      <td>9.000000</td>\n",
       "      <td>350.750000</td>\n",
       "      <td>165.000000</td>\n",
       "      <td>111.312500</td>\n",
       "      <td>18.187500</td>\n",
       "      <td>20.000000</td>\n",
       "    </tr>\n",
       "  </tbody>\n",
       "</table>\n",
       "</div>"
      ],
      "text/plain": [
       "             Leave  MemberWeeks  NewContract       IsData   DataAmount  \\\n",
       "count  3333.000000  3333.000000  3333.000000  3333.000000  3333.000000   \n",
       "mean      0.144914   101.064806     0.903090     0.276628     0.816895   \n",
       "std       0.352067    39.822106     0.295879     0.447398     1.273438   \n",
       "min       0.000000     1.000000     0.000000     0.000000     0.000000   \n",
       "25%       0.000000    74.000000     1.000000     0.000000     0.000000   \n",
       "50%       0.000000   101.000000     1.000000     0.000000     0.000000   \n",
       "75%       0.000000   127.000000     1.000000     1.000000     1.780273   \n",
       "max       1.000000   243.000000     1.000000     1.000000     5.398438   \n",
       "\n",
       "        Callcenter      CalMins    CalCounts   MonthlyFee      OverFee  \\\n",
       "count  3333.000000  3333.000000  3333.000000  3333.000000  3333.000000   \n",
       "mean      1.562856   179.775070   100.435644    56.305271    10.054688   \n",
       "std       1.315491    54.467808    20.069084    16.426413     2.535156   \n",
       "min       0.000000     0.000000     0.000000    14.000000     0.000000   \n",
       "25%       1.000000   143.750000    87.000000    45.000000     8.328125   \n",
       "50%       1.000000   179.375000   101.000000    53.500000    10.070312   \n",
       "75%       2.000000   216.375000   114.000000    66.187500    11.773438   \n",
       "max       9.000000   350.750000   165.000000   111.312500    18.187500   \n",
       "\n",
       "        RoamingMin  \n",
       "count  3333.000000  \n",
       "mean     10.234375  \n",
       "std       2.791016  \n",
       "min       0.000000  \n",
       "25%       8.500000  \n",
       "50%      10.296875  \n",
       "75%      12.101562  \n",
       "max      20.000000  "
      ]
     },
     "execution_count": 12,
     "metadata": {},
     "output_type": "execute_result"
    }
   ],
   "source": [
    "telco.describe()"
   ]
  },
  {
   "cell_type": "code",
   "execution_count": 15,
   "metadata": {},
   "outputs": [
    {
     "data": {
      "text/plain": [
       "Text(0.5, 1.0, '가입기간')"
      ]
     },
     "execution_count": 15,
     "metadata": {},
     "output_type": "execute_result"
    },
    {
     "data": {
      "image/png": "[encoded data removed]",
      "text/plain": [
       "<Figure size 576x432 with 1 Axes>"
      ]
     },
     "metadata": {
      "needs_background": "light"
     },
     "output_type": "display_data"
    }
   ],
   "source": [
    "#가입기간 히스토그램으로 확인\n",
    "\n",
    "fig, ax = plt.subplots(figsize = (8,6))\n",
    "plt.rc('font', family = 'Malgun Gothic')\n",
    "sns.histplot(telco.MemberWeeks)\n",
    "plt.title(\"가입기간\", fontsize = 15, weight = 'bold')"
   ]
  },
  {
   "cell_type": "markdown",
   "metadata": {},
   "source": [
    "- 가입기간의 평균은 101주였고, 90 ~ 120 정도의 가입기간을 가진 고객이 많은 것으로 보였다."
   ]
  },
  {
   "cell_type": "code",
   "execution_count": 16,
   "metadata": {},
   "outputs": [
    {
     "data": {
      "image/png": "[encoded data removed]",
      "text/plain": [
       "<Figure size 1440x504 with 2 Axes>"
      ]
     },
     "metadata": {
      "needs_background": "light"
     },
     "output_type": "display_data"
    }
   ],
   "source": [
    "fig = plt.figure(figsize = (20,7))\n",
    "\n",
    "# 월평균전화량 분포 히스토그램 ( 왼쪽그래프 )\n",
    "plt.subplot(1,2,1)\n",
    "plt.hist(telco.CalMins, alpha = 0.5)\n",
    "plt.title('월평균전화량',fontsize = 15, weight = 'bold' )\n",
    "\n",
    "#월평균요금 (오른쪽 그래프)\n",
    "plt.subplot(1,2,2)\n",
    "plt.title(\"월평균요금\",fontsize = 15, weight = 'bold')\n",
    "plt.hist(telco.MonthlyFee, alpha = 0.5)\n",
    "\n",
    "plt.show()"
   ]
  },
  {
   "cell_type": "markdown",
   "metadata": {},
   "source": [
    "- 월평균전화량의 평균은 179분이였고, 고객 대부분이 월평균 150 ~ 200분 사이에 통화를 많이 하는 것으로 보였다. <br>\n",
    "- 월평균요금의 평균은 56이였고, 고객 대부분이 50~60 정도의 요금을 많이 지불하는 것으로 보였다. \n",
    "\n"
   ]
  },
  {
   "cell_type": "code",
   "execution_count": 17,
   "metadata": {},
   "outputs": [
    {
     "data": {
      "text/plain": [
       "<AxesSubplot:xlabel='CalCounts'>"
      ]
     },
     "execution_count": 17,
     "metadata": {},
     "output_type": "execute_result"
    },
    {
     "data": {
      "image/png": "[encoded data removed]",
      "text/plain": [
       "<Figure size 720x576 with 3 Axes>"
      ]
     },
     "metadata": {
      "needs_background": "light"
     },
     "output_type": "display_data"
    }
   ],
   "source": [
    "# 초과요금, 로밍시간, 월평균전화수 분포 시각화\n",
    "\n",
    "fig, axs = plt.subplots(nrows =3, figsize = (10,8))\n",
    "sns.boxplot(x = telco.OverFee, ax = axs[0])   #초과요금 분포\n",
    "sns.violinplot(x = telco.RoamingMin, ax = axs[1] )  #로밍시간 분포\n",
    "sns.boxenplot(x = telco.CalCounts, ax = axs[2] )  #월평균전화수 분포"
   ]
  },
  {
   "cell_type": "markdown",
   "metadata": {},
   "source": [
    "<br>"
   ]
  },
  {
   "cell_type": "code",
   "execution_count": 19,
   "metadata": {},
   "outputs": [
    {
     "name": "stderr",
     "output_type": "stream",
     "text": [
      "C:\\Users\\82105\\anaconda3\\lib\\site-packages\\seaborn\\_decorators.py:36: FutureWarning: Pass the following variables as keyword args: x, y. From version 0.12, the only valid positional argument will be `data`, and passing other arguments without an explicit keyword will result in an error or misinterpretation.\n",
      "  warnings.warn(\n"
     ]
    },
    {
     "data": {
      "text/plain": [
       "Text(0.5, 1.0, '고객센터전화량')"
      ]
     },
     "execution_count": 19,
     "metadata": {},
     "output_type": "execute_result"
    },
    {
     "data": {
      "image/png": "[encoded data removed]",
      "text/plain": [
       "<Figure size 720x432 with 1 Axes>"
      ]
     },
     "metadata": {
      "needs_background": "light"
     },
     "output_type": "display_data"
    }
   ],
   "source": [
    "# 고객센터전화량 막대그래프\n",
    "\n",
    "fig, ax = plt.subplots(figsize = (10,6))\n",
    "sns.barplot(telco.Callcenter.value_counts().index, telco.Callcenter.value_counts())\n",
    "plt.title(\"고객센터전화량\", fontsize = 15, weight = 'bold')"
   ]
  },
  {
   "cell_type": "markdown",
   "metadata": {},
   "source": [
    "- 평균적으로 1.5회 고객센터에 전화를 하며, 대부분 0 ~ 3 정도 고객센터에 전화하는 것으로 나타났다. "
   ]
  },
  {
   "cell_type": "markdown",
   "metadata": {},
   "source": [
    "<br>"
   ]
  },
  {
   "cell_type": "code",
   "execution_count": 20,
   "metadata": {},
   "outputs": [
    {
     "data": {
      "text/html": [
       "<div>\n",
       "<style scoped>\n",
       "    .dataframe tbody tr th:only-of-type {\n",
       "        vertical-align: middle;\n",
       "    }\n",
       "\n",
       "    .dataframe tbody tr th {\n",
       "        vertical-align: top;\n",
       "    }\n",
       "\n",
       "    .dataframe thead th {\n",
       "        text-align: right;\n",
       "    }\n",
       "</style>\n",
       "<table border=\"1\" class=\"dataframe\">\n",
       "  <thead>\n",
       "    <tr style=\"text-align: right;\">\n",
       "      <th></th>\n",
       "      <th>Leave</th>\n",
       "      <th>MemberWeeks</th>\n",
       "      <th>NewContract</th>\n",
       "      <th>IsData</th>\n",
       "      <th>DataAmount</th>\n",
       "      <th>Callcenter</th>\n",
       "      <th>CalMins</th>\n",
       "      <th>CalCounts</th>\n",
       "      <th>MonthlyFee</th>\n",
       "      <th>OverFee</th>\n",
       "      <th>RoamingMin</th>\n",
       "    </tr>\n",
       "  </thead>\n",
       "  <tbody>\n",
       "    <tr>\n",
       "      <th>Leave</th>\n",
       "      <td>1.000000</td>\n",
       "      <td>0.016541</td>\n",
       "      <td>-0.259852</td>\n",
       "      <td>-0.102148</td>\n",
       "      <td>-0.087198</td>\n",
       "      <td>0.208750</td>\n",
       "      <td>0.205159</td>\n",
       "      <td>0.018459</td>\n",
       "      <td>0.072323</td>\n",
       "      <td>0.092805</td>\n",
       "      <td>0.068214</td>\n",
       "    </tr>\n",
       "    <tr>\n",
       "      <th>MemberWeeks</th>\n",
       "      <td>0.016541</td>\n",
       "      <td>1.000000</td>\n",
       "      <td>-0.024735</td>\n",
       "      <td>0.002918</td>\n",
       "      <td>0.014392</td>\n",
       "      <td>-0.003796</td>\n",
       "      <td>0.006208</td>\n",
       "      <td>0.038470</td>\n",
       "      <td>0.012596</td>\n",
       "      <td>-0.006743</td>\n",
       "      <td>0.009511</td>\n",
       "    </tr>\n",
       "    <tr>\n",
       "      <th>NewContract</th>\n",
       "      <td>-0.259852</td>\n",
       "      <td>-0.024735</td>\n",
       "      <td>1.000000</td>\n",
       "      <td>-0.006006</td>\n",
       "      <td>-0.019223</td>\n",
       "      <td>0.024522</td>\n",
       "      <td>-0.049402</td>\n",
       "      <td>-0.003755</td>\n",
       "      <td>-0.047303</td>\n",
       "      <td>-0.019101</td>\n",
       "      <td>-0.045880</td>\n",
       "    </tr>\n",
       "    <tr>\n",
       "      <th>IsData</th>\n",
       "      <td>-0.102148</td>\n",
       "      <td>0.002918</td>\n",
       "      <td>-0.006006</td>\n",
       "      <td>1.000000</td>\n",
       "      <td>0.945983</td>\n",
       "      <td>-0.017824</td>\n",
       "      <td>-0.001676</td>\n",
       "      <td>-0.011086</td>\n",
       "      <td>0.737483</td>\n",
       "      <td>0.021525</td>\n",
       "      <td>-0.001315</td>\n",
       "    </tr>\n",
       "    <tr>\n",
       "      <th>DataAmount</th>\n",
       "      <td>-0.087198</td>\n",
       "      <td>0.014392</td>\n",
       "      <td>-0.019223</td>\n",
       "      <td>0.945983</td>\n",
       "      <td>1.000000</td>\n",
       "      <td>-0.021723</td>\n",
       "      <td>0.003189</td>\n",
       "      <td>-0.007962</td>\n",
       "      <td>0.781649</td>\n",
       "      <td>0.019636</td>\n",
       "      <td>0.162746</td>\n",
       "    </tr>\n",
       "    <tr>\n",
       "      <th>Callcenter</th>\n",
       "      <td>0.208750</td>\n",
       "      <td>-0.003796</td>\n",
       "      <td>0.024522</td>\n",
       "      <td>-0.017824</td>\n",
       "      <td>-0.021723</td>\n",
       "      <td>1.000000</td>\n",
       "      <td>-0.013409</td>\n",
       "      <td>-0.018942</td>\n",
       "      <td>-0.028029</td>\n",
       "      <td>-0.012959</td>\n",
       "      <td>-0.009633</td>\n",
       "    </tr>\n",
       "    <tr>\n",
       "      <th>CalMins</th>\n",
       "      <td>0.205159</td>\n",
       "      <td>0.006208</td>\n",
       "      <td>-0.049402</td>\n",
       "      <td>-0.001676</td>\n",
       "      <td>0.003189</td>\n",
       "      <td>-0.013409</td>\n",
       "      <td>1.000000</td>\n",
       "      <td>0.006750</td>\n",
       "      <td>0.567981</td>\n",
       "      <td>0.007029</td>\n",
       "      <td>-0.010169</td>\n",
       "    </tr>\n",
       "    <tr>\n",
       "      <th>CalCounts</th>\n",
       "      <td>0.018459</td>\n",
       "      <td>0.038470</td>\n",
       "      <td>-0.003755</td>\n",
       "      <td>-0.011086</td>\n",
       "      <td>-0.007962</td>\n",
       "      <td>-0.018942</td>\n",
       "      <td>0.006750</td>\n",
       "      <td>1.000000</td>\n",
       "      <td>-0.007953</td>\n",
       "      <td>-0.021427</td>\n",
       "      <td>0.021550</td>\n",
       "    </tr>\n",
       "    <tr>\n",
       "      <th>MonthlyFee</th>\n",
       "      <td>0.072323</td>\n",
       "      <td>0.012596</td>\n",
       "      <td>-0.047303</td>\n",
       "      <td>0.737483</td>\n",
       "      <td>0.781649</td>\n",
       "      <td>-0.028029</td>\n",
       "      <td>0.567981</td>\n",
       "      <td>-0.007953</td>\n",
       "      <td>1.000000</td>\n",
       "      <td>0.281783</td>\n",
       "      <td>0.117423</td>\n",
       "    </tr>\n",
       "    <tr>\n",
       "      <th>OverFee</th>\n",
       "      <td>0.092805</td>\n",
       "      <td>-0.006743</td>\n",
       "      <td>-0.019101</td>\n",
       "      <td>0.021525</td>\n",
       "      <td>0.019636</td>\n",
       "      <td>-0.012959</td>\n",
       "      <td>0.007029</td>\n",
       "      <td>-0.021427</td>\n",
       "      <td>0.281783</td>\n",
       "      <td>1.000000</td>\n",
       "      <td>-0.011044</td>\n",
       "    </tr>\n",
       "    <tr>\n",
       "      <th>RoamingMin</th>\n",
       "      <td>0.068214</td>\n",
       "      <td>0.009511</td>\n",
       "      <td>-0.045880</td>\n",
       "      <td>-0.001315</td>\n",
       "      <td>0.162746</td>\n",
       "      <td>-0.009633</td>\n",
       "      <td>-0.010169</td>\n",
       "      <td>0.021550</td>\n",
       "      <td>0.117423</td>\n",
       "      <td>-0.011044</td>\n",
       "      <td>1.000000</td>\n",
       "    </tr>\n",
       "  </tbody>\n",
       "</table>\n",
       "</div>"
      ],
      "text/plain": [
       "                Leave  MemberWeeks  NewContract    IsData  DataAmount  \\\n",
       "Leave        1.000000     0.016541    -0.259852 -0.102148   -0.087198   \n",
       "MemberWeeks  0.016541     1.000000    -0.024735  0.002918    0.014392   \n",
       "NewContract -0.259852    -0.024735     1.000000 -0.006006   -0.019223   \n",
       "IsData      -0.102148     0.002918    -0.006006  1.000000    0.945983   \n",
       "DataAmount  -0.087198     0.014392    -0.019223  0.945983    1.000000   \n",
       "Callcenter   0.208750    -0.003796     0.024522 -0.017824   -0.021723   \n",
       "CalMins      0.205159     0.006208    -0.049402 -0.001676    0.003189   \n",
       "CalCounts    0.018459     0.038470    -0.003755 -0.011086   -0.007962   \n",
       "MonthlyFee   0.072323     0.012596    -0.047303  0.737483    0.781649   \n",
       "OverFee      0.092805    -0.006743    -0.019101  0.021525    0.019636   \n",
       "RoamingMin   0.068214     0.009511    -0.045880 -0.001315    0.162746   \n",
       "\n",
       "             Callcenter   CalMins  CalCounts  MonthlyFee   OverFee  RoamingMin  \n",
       "Leave          0.208750  0.205159   0.018459    0.072323  0.092805    0.068214  \n",
       "MemberWeeks   -0.003796  0.006208   0.038470    0.012596 -0.006743    0.009511  \n",
       "NewContract    0.024522 -0.049402  -0.003755   -0.047303 -0.019101   -0.045880  \n",
       "IsData        -0.017824 -0.001676  -0.011086    0.737483  0.021525   -0.001315  \n",
       "DataAmount    -0.021723  0.003189  -0.007962    0.781649  0.019636    0.162746  \n",
       "Callcenter     1.000000 -0.013409  -0.018942   -0.028029 -0.012959   -0.009633  \n",
       "CalMins       -0.013409  1.000000   0.006750    0.567981  0.007029   -0.010169  \n",
       "CalCounts     -0.018942  0.006750   1.000000   -0.007953 -0.021427    0.021550  \n",
       "MonthlyFee    -0.028029  0.567981  -0.007953    1.000000  0.281783    0.117423  \n",
       "OverFee       -0.012959  0.007029  -0.021427    0.281783  1.000000   -0.011044  \n",
       "RoamingMin    -0.009633 -0.010169   0.021550    0.117423 -0.011044    1.000000  "
      ]
     },
     "execution_count": 20,
     "metadata": {},
     "output_type": "execute_result"
    }
   ],
   "source": [
    "# 변수간 상관관계 \n",
    "\n",
    "corr = telco.corr(method = 'pearson')\n",
    "corr"
   ]
  },
  {
   "cell_type": "code",
   "execution_count": 21,
   "metadata": {},
   "outputs": [
    {
     "name": "stderr",
     "output_type": "stream",
     "text": [
      "C:\\Users\\82105\\anaconda3\\lib\\site-packages\\matplotlib\\backends\\backend_agg.py:238: RuntimeWarning: Glyph 8722 missing from current font.\n",
      "  font.set_text(s, 0.0, flags=flags)\n",
      "C:\\Users\\82105\\anaconda3\\lib\\site-packages\\matplotlib\\backends\\backend_agg.py:201: RuntimeWarning: Glyph 8722 missing from current font.\n",
      "  font.set_text(s, 0, flags=flags)\n"
     ]
    },
    {
     "data": {
      "image/png": "[encoded data removed]",
      "text/plain": [
       "<Figure size 1440x720 with 2 Axes>"
      ]
     },
     "metadata": {
      "needs_background": "light"
     },
     "output_type": "display_data"
    }
   ],
   "source": [
    "# 상관관계 시각화 하기.\n",
    "\n",
    "fig, ax = plt.subplots(figsize = (20,10))\n",
    "\n",
    "mask = np.zeros_like(corr,dtype = np.bool)\n",
    "mask[np.triu_indices_from(mask)]= True\n",
    "\n",
    "sns.heatmap(corr, \n",
    "            cmap = 'RdYlBu_r', \n",
    "            annot = True,   # 값 표시.\n",
    "            mask=mask,      # 표시하지 않을 마스크 부분을 지정.\n",
    "            linewidths=.5,  # 경계면 실선으로 구분.\n",
    "            cbar_kws={\"shrink\": .5}, # 컬러바 크기 절반으로 줄이기\n",
    "            vmin = -1,vmax = 1   # 컬러바 범위 -1 ~ 1\n",
    "           )  \n",
    "plt.show()"
   ]
  },
  {
   "cell_type": "markdown",
   "metadata": {},
   "source": [
    "- 변수 간 상관관계를 살펴본 결과, 데이터요금제사용여부와 데이터사용량 사이의 강한 양의 상관관계를 가지는 것으로 보였다.<br>\n",
    "   또한, 월평균요금은 데이터요금제사용여부, 데이터사용량, 월평균전화량과 양의 상관관계를 가지고 있는 것으로 나타났다."
   ]
  },
  {
   "cell_type": "markdown",
   "metadata": {},
   "source": [
    "<br>"
   ]
  },
  {
   "cell_type": "markdown",
   "metadata": {},
   "source": [
    "### 3. 고객 이탈 방지를 위한 데이터분석"
   ]
  },
  {
   "cell_type": "code",
   "execution_count": 22,
   "metadata": {},
   "outputs": [
    {
     "data": {
      "text/plain": [
       "0    2850\n",
       "1     483\n",
       "Name: Leave, dtype: int64"
      ]
     },
     "execution_count": 22,
     "metadata": {},
     "output_type": "execute_result"
    }
   ],
   "source": [
    "#이동통신 사용자 가입해지여부 인원수로 확인.\n",
    "telco.Leave.value_counts()  "
   ]
  },
  {
   "cell_type": "code",
   "execution_count": 23,
   "metadata": {},
   "outputs": [
    {
     "data": {
      "image/png": "[encoded data removed]",
      "text/plain": [
       "<Figure size 360x360 with 1 Axes>"
      ]
     },
     "metadata": {},
     "output_type": "display_data"
    }
   ],
   "source": [
    "#파이차트 가입해지여부 시각화\n",
    "\n",
    "fig = plt.figure(figsize = (5,5))\n",
    "fig.set_facecolor('white')      #그래프 배경 하얀색으로 변경.\n",
    "plt.rc('font', family = 'Malgun Gothic')\n",
    "plt.title(\"이동 통신사 가입해지 여부\", fontsize = 15, weight = 'bold')\n",
    "\n",
    "telco_leave = telco.Leave.value_counts(normalize = True)     # 가입해지여부 비율로 표시\n",
    "telco_leave.index=['가입','가입해지']        # 인덱스 이름 변경 ( 0 : 가입 1: 가입해지로 변경.) \n",
    "telco_leave.plot.pie(autopct = '%2.f%%',\n",
    "           colors = ['lightblue','tomato'],\n",
    "           textprops = {'fontsize' : 12,'weight':'bold'})\n",
    "plt.show()"
   ]
  },
  {
   "cell_type": "markdown",
   "metadata": {},
   "source": [
    "- 현재 이동통신 사용자 3333 명 중 대부분의 86% (2850명)가 가입상태를 유지하고 있으며, 약 14% (483명)만이 가입 해지 한 것을 확인할 수 있었다."
   ]
  },
  {
   "cell_type": "markdown",
   "metadata": {},
   "source": [
    "<br>"
   ]
  },
  {
   "cell_type": "code",
   "execution_count": 24,
   "metadata": {},
   "outputs": [
    {
     "data": {
      "text/plain": [
       "1    3010\n",
       "0     323\n",
       "Name: NewContract, dtype: int64"
      ]
     },
     "execution_count": 24,
     "metadata": {},
     "output_type": "execute_result"
    }
   ],
   "source": [
    "# 가입 갱신여부 인원수로 확인.\n",
    "telco.NewContract.value_counts()"
   ]
  },
  {
   "cell_type": "code",
   "execution_count": 25,
   "metadata": {},
   "outputs": [
    {
     "data": {
      "text/plain": [
       "<AxesSubplot:title={'center':'사용자 가입갱신 여부'}, ylabel='NewContract'>"
      ]
     },
     "execution_count": 25,
     "metadata": {},
     "output_type": "execute_result"
    },
    {
     "data": {
      "image/png": "[encoded data removed]",
      "text/plain": [
       "<Figure size 360x360 with 1 Axes>"
      ]
     },
     "metadata": {},
     "output_type": "display_data"
    }
   ],
   "source": [
    "#가입 갱신여부 시각화 \n",
    "\n",
    "#telco_NewContract = telco.NewContract.value_counts(normalize = True)\n",
    "\n",
    "fig = plt.figure(figsize = (5,5))\n",
    "fig.set_facecolor('white')\n",
    "plt.rc('font', family = 'Malgun Gothic')\n",
    "plt.title(\"사용자 가입갱신 여부\",fontsize = 15,weight = 'bold')\n",
    "\n",
    "telco_NewContract =telco.NewContract.value_counts(normalize = True)  #갱신여부 비율로 표현.\n",
    "telco_NewContract.index=['갱신', '갱신 하지 않음']    # 인덱스 이름변경. (1: 갱신, 0: 갱신 하지 않음.)\n",
    "\n",
    "telco_NewContract.plot.pie(autopct = '%2.f%%',\n",
    "                           colors = ['lightblue','tomato'],\n",
    "                           textprops = {'fontsize' : 12,'weight':'bold'})\n",
    "\n"
   ]
  },
  {
   "cell_type": "markdown",
   "metadata": {},
   "source": [
    "- 전체 사용자 3333명 중 대부분의 90% (3010명)가 갱신을 하였고, 약 10% (323명)의 고객이 갱신을 하지 않은 것으로 나타났다."
   ]
  },
  {
   "cell_type": "markdown",
   "metadata": {},
   "source": [
    "\n",
    "   \n",
    "- 가입 해지 여부, 가입갱신 여부, 두가지 범주형 데이터를 통하여\n",
    "    전체 사용자 86%가 가입을 유지하고, 90%가 이동통신 서비스를 다시 갱신한다는 것을 확인하였다.<br>\n",
    "    이를 통하여 이 이동통신사는 고객의 이탈이 비교적 적은 것으로 판단된다."
   ]
  },
  {
   "cell_type": "markdown",
   "metadata": {},
   "source": [
    "<br>"
   ]
  },
  {
   "cell_type": "code",
   "execution_count": 26,
   "metadata": {},
   "outputs": [
    {
     "data": {
      "text/html": [
       "<div>\n",
       "<style scoped>\n",
       "    .dataframe tbody tr th:only-of-type {\n",
       "        vertical-align: middle;\n",
       "    }\n",
       "\n",
       "    .dataframe tbody tr th {\n",
       "        vertical-align: top;\n",
       "    }\n",
       "\n",
       "    .dataframe thead th {\n",
       "        text-align: right;\n",
       "    }\n",
       "</style>\n",
       "<table border=\"1\" class=\"dataframe\">\n",
       "  <thead>\n",
       "    <tr style=\"text-align: right;\">\n",
       "      <th>NewContract</th>\n",
       "      <th>0</th>\n",
       "      <th>1</th>\n",
       "      <th>All</th>\n",
       "    </tr>\n",
       "    <tr>\n",
       "      <th>Leave</th>\n",
       "      <th></th>\n",
       "      <th></th>\n",
       "      <th></th>\n",
       "    </tr>\n",
       "  </thead>\n",
       "  <tbody>\n",
       "    <tr>\n",
       "      <th>0</th>\n",
       "      <td>186</td>\n",
       "      <td>2664</td>\n",
       "      <td>2850</td>\n",
       "    </tr>\n",
       "    <tr>\n",
       "      <th>1</th>\n",
       "      <td>137</td>\n",
       "      <td>346</td>\n",
       "      <td>483</td>\n",
       "    </tr>\n",
       "    <tr>\n",
       "      <th>All</th>\n",
       "      <td>323</td>\n",
       "      <td>3010</td>\n",
       "      <td>3333</td>\n",
       "    </tr>\n",
       "  </tbody>\n",
       "</table>\n",
       "</div>"
      ],
      "text/plain": [
       "NewContract    0     1   All\n",
       "Leave                       \n",
       "0            186  2664  2850\n",
       "1            137   346   483\n",
       "All          323  3010  3333"
      ]
     },
     "execution_count": 26,
     "metadata": {},
     "output_type": "execute_result"
    }
   ],
   "source": [
    "# 가입 해지여부와 갱신여부 교차표 (명)\n",
    "pd.crosstab(index = telco.Leave, columns =telco.NewContract, margins = True)"
   ]
  },
  {
   "cell_type": "code",
   "execution_count": 27,
   "metadata": {},
   "outputs": [
    {
     "data": {
      "text/plain": [
       "<AxesSubplot:xlabel='NewContract', ylabel='count'>"
      ]
     },
     "execution_count": 27,
     "metadata": {},
     "output_type": "execute_result"
    },
    {
     "data": {
      "image/png": "[encoded data removed]",
      "text/plain": [
       "<Figure size 576x432 with 1 Axes>"
      ]
     },
     "metadata": {
      "needs_background": "light"
     },
     "output_type": "display_data"
    }
   ],
   "source": [
    "# 사용자 가입여부와 갱신여부 관계 시각화\n",
    "fig, ax = plt.subplots(figsize = (8,6))\n",
    "sns.countplot(\n",
    "        x = 'NewContract',\n",
    "        hue = 'Leave',\n",
    "        data = telco,\n",
    "        dodge = False)"
   ]
  },
  {
   "cell_type": "markdown",
   "metadata": {},
   "source": [
    "- 가입해지여부와 갱신여부를 같이 살펴본 결과, 갱신을 하고 가입상태를 유지하고 있는 사용자는 2664명으로\n",
    "    전체 사용자(3333명)의 대략 80%를 차지하고 있었다.<br/>반면, 갱신을 하지 않고 가입해지를 한 사용자수는 137명으로 전체 사용자의 대략 4%로 나타났다.    \n",
    "    \n",
    "    \n",
    "-  갱신여부를 나누어서 가입해지여부를 살펴본 결과, 갱신을 하지 않은 사용자(323명)의 42%가(137명) 가입해지를 하였다.<br>\n",
    "    반면, 갱신을 한 사용자(3010명)는 11%(346명)만 가입해지를 하였고 대부분의 88%(2664명)의 가입상태를 유지하였다.  \n",
    "   \n",
    "    "
   ]
  },
  {
   "cell_type": "markdown",
   "metadata": {},
   "source": [
    "<br>"
   ]
  },
  {
   "cell_type": "code",
   "execution_count": 28,
   "metadata": {},
   "outputs": [
    {
     "data": {
      "text/plain": [
       "0    2411\n",
       "1     922\n",
       "Name: IsData, dtype: int64"
      ]
     },
     "execution_count": 28,
     "metadata": {},
     "output_type": "execute_result"
    }
   ],
   "source": [
    "# 데이터요금제 사용여부\n",
    "\n",
    "telco.IsData.value_counts() "
   ]
  },
  {
   "cell_type": "code",
   "execution_count": 29,
   "metadata": {},
   "outputs": [
    {
     "data": {
      "text/plain": [
       "<AxesSubplot:title={'center':'데이터요금제 사용여부'}, ylabel='IsData'>"
      ]
     },
     "execution_count": 29,
     "metadata": {},
     "output_type": "execute_result"
    },
    {
     "data": {
      "image/png": "[encoded data removed]",
      "text/plain": [
       "<Figure size 360x360 with 1 Axes>"
      ]
     },
     "metadata": {},
     "output_type": "display_data"
    }
   ],
   "source": [
    "#데이터요금제 사용여부 시각화 \n",
    "\n",
    "fig = plt.figure(figsize = (5,5))\n",
    "fig.set_facecolor('white')\n",
    "plt.rc('font', family = 'Malgun Gothic')\n",
    "plt.title(\"데이터요금제 사용여부\",fontsize = 15)\n",
    "\n",
    "telco_IsData =telco.IsData.value_counts(normalize = True)  #데이터요금제 사용여부 비율\n",
    "telco_IsData.index=['사용안함', '사용']    # 인덱스 이름변경. (1: 사용, 0: 사용안함.)\n",
    "\n",
    "telco_IsData.plot.pie(autopct = '%2.f%%',\n",
    "                           colors = ['lightblue','tomato'],\n",
    "                           textprops = {'fontsize' : 12,'weight':'bold'})\n",
    "\n"
   ]
  },
  {
   "cell_type": "markdown",
   "metadata": {},
   "source": [
    "- 데이터 요금제 사용여부를 살펴본 결과, 이동통신 사용자의 대부분의 72% (2411명)가 데이터요금제를 사용하고 있지 않으며,<br> 28%(922명)만이 데이터 요금제를 사용하고 있는 것으로 나타났다."
   ]
  },
  {
   "cell_type": "code",
   "execution_count": 30,
   "metadata": {},
   "outputs": [
    {
     "data": {
      "text/plain": [
       "<seaborn.axisgrid.FacetGrid at 0x1e1c3a61340>"
      ]
     },
     "execution_count": 30,
     "metadata": {},
     "output_type": "execute_result"
    },
    {
     "data": {
      "image/png": "[encoded data removed]",
      "text/plain": [
       "<Figure size 360x360 with 1 Axes>"
      ]
     },
     "metadata": {
      "needs_background": "light"
     },
     "output_type": "display_data"
    }
   ],
   "source": [
    "# 데이터 요금제 사용여부에 따른 데이터사용량.\n",
    "\n",
    "sns.catplot(x = 'IsData', y = 'DataAmount', data = telco, kind = 'box')"
   ]
  },
  {
   "cell_type": "markdown",
   "metadata": {},
   "source": [
    "- 데이터 요금제 사용여부에 따른 데이터 사용량을 살펴본 결과,<br>데이터 요금제를 사용하는 고객이 데이터요금제를 사용하지 않는 고객보다 훨씬 많은 데이터를 사용하고 있는 것으로 나타났다. "
   ]
  },
  {
   "cell_type": "markdown",
   "metadata": {},
   "source": [
    "<br>"
   ]
  },
  {
   "cell_type": "code",
   "execution_count": 31,
   "metadata": {},
   "outputs": [
    {
     "data": {
      "image/png": "[encoded data removed]",
      "text/plain": [
       "<Figure size 1440x504 with 2 Axes>"
      ]
     },
     "metadata": {
      "needs_background": "light"
     },
     "output_type": "display_data"
    }
   ],
   "source": [
    "fig = plt.figure(figsize = (20,7))\n",
    "\n",
    "# 데이터 사용량 분포 히스토그램 ( 왼쪽그래프 )\n",
    "plt.subplot(1,2,1)\n",
    "plt.hist(telco.DataAmount, alpha = 0.5, label = '데이터요금제 사용')\n",
    "plt.title('데이터 사용량(GB) 분포',fontsize = 15, weight = 'bold' )\n",
    "\n",
    "#데이터 요금제 사용여부에 따른 데이터 사용량 (오른쪽 그래프)\n",
    "plt.subplot(1,2,2)\n",
    "plt.title(\"데이터 요금제 사용여부에 따른 데이터 사용량\",fontsize = 15, weight = 'bold')\n",
    "\n",
    "telco_dataUse = telco[telco.IsData == 1]\n",
    "plt.hist(telco_dataUse.DataAmount,alpha = 0.5, label = '데이터요금제 사용')\n",
    "\n",
    "telco_dataNoUse = telco[telco.IsData == 0]\n",
    "plt.hist(telco_dataNoUse.DataAmount,alpha = 0.5, label = '데이터요금제 사용X')\n",
    "\n",
    "plt.legend()\n",
    "plt.show()"
   ]
  },
  {
   "cell_type": "markdown",
   "metadata": {},
   "source": [
    "- 전체 고객의 데이터 사용량 분포(왼쪽 그래프)를 살펴보면 0 ~ 1 GB 미만의 데이터 사용량이 압도적으로 많았고,<br> \n",
    "  1GB 이상을 사용한 고객만을 살펴보았을 때에는  대략 3GB을 평균으로 한 정규분포 모양을 나타냈다."
   ]
  },
  {
   "cell_type": "markdown",
   "metadata": {},
   "source": [
    "- 데이터 요금제 사용여부에 따른 데이터 사용량(오른쪽 그래프)을 살펴보면,  1GB 미만을 사용한 고객들은 데이터요금제를 사용하지 않았고 <br>\n",
    "   1GB 이상을 사용하는 고객들만이 데이터 요금제를 사용하는 것으로 보였다. "
   ]
  },
  {
   "cell_type": "markdown",
   "metadata": {},
   "source": [
    "<br>"
   ]
  },
  {
   "cell_type": "code",
   "execution_count": 32,
   "metadata": {},
   "outputs": [
    {
     "data": {
      "text/plain": [
       "0.7816489770089311"
      ]
     },
     "execution_count": 32,
     "metadata": {},
     "output_type": "execute_result"
    }
   ],
   "source": [
    "# 데이터 사용량과 월평균요금 상관관계\n",
    "\n",
    "telco.DataAmount.corr(telco.MonthlyFee)"
   ]
  },
  {
   "cell_type": "markdown",
   "metadata": {},
   "source": [
    "- 고객의 데이터 사용량이 많을 수록 월평균요금도 증가하는 양의 상관관계를 가진 것을 확인하였다. "
   ]
  },
  {
   "cell_type": "markdown",
   "metadata": {},
   "source": [
    "<br>"
   ]
  },
  {
   "cell_type": "code",
   "execution_count": 33,
   "metadata": {},
   "outputs": [
    {
     "data": {
      "image/png": "[encoded data removed]",
      "text/plain": [
       "<Figure size 720x504 with 1 Axes>"
      ]
     },
     "metadata": {
      "needs_background": "light"
     },
     "output_type": "display_data"
    }
   ],
   "source": [
    "# 데이터요금제 사용여부에 따른 데이터사용량과 월평균요금\n",
    "\n",
    "fig = plt.figure(figsize = (10,7))\n",
    "plt.title('데이터요금제 사용여부에 따른 데이터사용량과 월평균요금',fontsize = 15, weight = 'bold' )\n",
    "sns.scatterplot(x = 'MonthlyFee', y = 'DataAmount',\n",
    "               hue = 'IsData', data = telco)\n",
    "plt.legend()\n",
    "plt.show()"
   ]
  },
  {
   "cell_type": "markdown",
   "metadata": {},
   "source": [
    "- 데이터 요금제를 사용하는 고객이 데이터 요금제를 사용하지 않는 고객보다 데이터 사용량이 많고 월평균 요금제를 많이 지불하는 것으로 나타났다."
   ]
  },
  {
   "cell_type": "markdown",
   "metadata": {},
   "source": [
    "<br>"
   ]
  },
  {
   "cell_type": "code",
   "execution_count": 34,
   "metadata": {},
   "outputs": [
    {
     "data": {
      "text/plain": [
       "75.89205169677734"
      ]
     },
     "execution_count": 34,
     "metadata": {},
     "output_type": "execute_result"
    }
   ],
   "source": [
    "# 데이터요금제 사용 고객 월평균 요금의 평균\n",
    "telco_dataUse.MonthlyFee.mean()"
   ]
  },
  {
   "cell_type": "code",
   "execution_count": 35,
   "metadata": {},
   "outputs": [
    {
     "data": {
      "text/plain": [
       "48.81501388549805"
      ]
     },
     "execution_count": 35,
     "metadata": {},
     "output_type": "execute_result"
    }
   ],
   "source": [
    "# 데이터요금제 사용하지 않는 고객 월평균 요금의 평균\n",
    "telco_dataNoUse.MonthlyFee.mean()"
   ]
  },
  {
   "cell_type": "code",
   "execution_count": 36,
   "metadata": {},
   "outputs": [
    {
     "data": {
      "text/plain": [
       "<matplotlib.legend.Legend at 0x1e1c4239d00>"
      ]
     },
     "execution_count": 36,
     "metadata": {},
     "output_type": "execute_result"
    },
    {
     "data": {
      "image/png": "[encoded data removed]",
      "text/plain": [
       "<Figure size 720x504 with 1 Axes>"
      ]
     },
     "metadata": {
      "needs_background": "light"
     },
     "output_type": "display_data"
    }
   ],
   "source": [
    "# 데이터 요금제 사용여부에 따른 월평균요금 \n",
    "fig = plt.figure(figsize = (10,7))\n",
    "plt.title('데이터 요금제 사용여부에 따른 월평균요금',fontsize = 15, weight = 'bold' )\n",
    "plt.hist(telco_dataUse.MonthlyFee,alpha = 0.5, label = '데이터요금제 사용')\n",
    "plt.hist(telco_dataNoUse.MonthlyFee,alpha = 0.5, label = '데이터요금제 사용X')\n",
    "plt.legend()"
   ]
  },
  {
   "cell_type": "markdown",
   "metadata": {},
   "source": [
    "- 실제로, 데이터 요금제를 사용하는 고객의 월평균요금의 평균이 약 76인 반면, 데이터의 요금제를 사용하지 않는 고객의 월평균요금의 평균은 49로,<br>\n",
    "    27정도 차이가 나는 것으로 나타났다.\n",
    "    "
   ]
  },
  {
   "cell_type": "code",
   "execution_count": 37,
   "metadata": {},
   "outputs": [
    {
     "data": {
      "text/html": [
       "<div>\n",
       "<style scoped>\n",
       "    .dataframe tbody tr th:only-of-type {\n",
       "        vertical-align: middle;\n",
       "    }\n",
       "\n",
       "    .dataframe tbody tr th {\n",
       "        vertical-align: top;\n",
       "    }\n",
       "\n",
       "    .dataframe thead th {\n",
       "        text-align: right;\n",
       "    }\n",
       "</style>\n",
       "<table border=\"1\" class=\"dataframe\">\n",
       "  <thead>\n",
       "    <tr style=\"text-align: right;\">\n",
       "      <th>IsData</th>\n",
       "      <th>0</th>\n",
       "      <th>1</th>\n",
       "    </tr>\n",
       "    <tr>\n",
       "      <th>Leave</th>\n",
       "      <th></th>\n",
       "      <th></th>\n",
       "    </tr>\n",
       "  </thead>\n",
       "  <tbody>\n",
       "    <tr>\n",
       "      <th>0</th>\n",
       "      <td>0.704561</td>\n",
       "      <td>0.295439</td>\n",
       "    </tr>\n",
       "  </tbody>\n",
       "</table>\n",
       "</div>"
      ],
      "text/plain": [
       "IsData         0         1\n",
       "Leave                     \n",
       "0       0.704561  0.295439"
      ]
     },
     "execution_count": 37,
     "metadata": {},
     "output_type": "execute_result"
    }
   ],
   "source": [
    "pd.crosstab(index = telco[telco.Leave == 0].Leave, columns =telco.IsData,normalize = True)"
   ]
  },
  {
   "cell_type": "markdown",
   "metadata": {},
   "source": [
    "- 가입자의 70%만이 데이터요금제를 사용하는 것으로 나타났다. "
   ]
  },
  {
   "cell_type": "markdown",
   "metadata": {},
   "source": [
    "<br>"
   ]
  },
  {
   "cell_type": "markdown",
   "metadata": {},
   "source": [
    "### 결론"
   ]
  },
  {
   "cell_type": "markdown",
   "metadata": {},
   "source": [
    "<br>"
   ]
  },
  {
   "cell_type": "markdown",
   "metadata": {},
   "source": [
    " 데이터 사용량이 많은 고객들이 데이터요금제를 사용하는지, 데이터요금제를 사용하다보니 데이터 사용량이 많아진 것인지에 대해서는<br>\n",
    "    현재 데이터로는 알 수 없지만, 가입자의 70% 가 0 ~ 1GB의 데이터를 사용하며 데이터요금제를 사용하지 않는 것으로 나타났다.<br>\n",
    "   전체 사용자의 86%가 가입을 유지하고, 90%가 이동통신 서비스를 다시 갱신한다는 것을 통하여 비교적 고객의 이탈이 적다고 생각하지만,<br>\n",
    "   데이터 사용량이 0 ~ 1GB 인 대부분의 가입자를 겨냥한 데이터요금제를 만든다면 고객의 이탈이 줄어들고 가입자가 많아지지 않을 까 생각한다. \n",
    "   \n"
   ]
  },
  {
   "cell_type": "markdown",
   "metadata": {},
   "source": [
    "<br>"
   ]
  }
 ],
 "metadata": {
  "kernelspec": {
   "display_name": "Python 3",
   "language": "python",
   "name": "python3"
  },
  "language_info": {
   "codemirror_mode": {
    "name": "ipython",
    "version": 3
   },
   "file_extension": ".py",
   "mimetype": "text/x-python",
   "name": "python",
   "nbconvert_exporter": "python",
   "pygments_lexer": "ipython3",
   "version": "3.8.5"
  }
 },
 "nbformat": 4,
 "nbformat_minor": 4
}
